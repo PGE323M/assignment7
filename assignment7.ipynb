{
 "cells": [
  {
   "cell_type": "markdown",
   "metadata": {},
   "source": [
    "# Assignment 7\n",
    "\n",
    "In [Assignment 6](http://nbviewer.jupyter.org/github/PGE323M/assignment6/blob/master/assignment6.ipynb) we wrote our own implementation of least squares curve fititng functions using Numpy data structures and operations.  Of course, least squares curve fitting is a very common task in scientific computing and there are several robust curve fitting utilities in the [SciPy](https://www.scipy.org/) software suite.\n",
    "\n",
    "Complete the class below by implementing the functions `fit`, and `fit_through_zero`. Use the [`scipy.optimize.curve_fit`](https://docs.scipy.org/doc/scipy/reference/generated/scipy.optimize.curve_fit.html) function.  This function takes a *function* as its first argument.  Use a `lambda` function defined within `fit` and `fit_through_zero`.  For the `fit` function, the `lambda` function will have the form\n",
    "\n",
    "$$\n",
    "f(\\phi, \\kappa_0, m) = \\kappa_0 + m \\frac{\\phi^3}{(1 - \\phi)^2}\n",
    "$$\n",
    "\n",
    "where $\\phi$ is the independent variable and $\\kappa_0$ and $m$ are the fitting parameters.  This function will need to be modified slighty for the `fit_through_zero` implementation."
   ]
  },
  {
   "cell_type": "code",
   "execution_count": 1,
   "metadata": {},
   "outputs": [],
   "source": [
    "import numpy as np\n",
    "import pandas as pd\n",
    "import scipy.optimize\n",
    "\n",
    "class KozenyCarmen():\n",
    "    \n",
    "    def __init__(self, filename):\n",
    "        \n",
    "        #This reads a filename that is passed as an argument during\n",
    "        #class instantiation and stores the data as a Pandas DataFrame\n",
    "        self.df = pd.read_csv(filename)\n",
    "        \n",
    "        return\n",
    "    \n",
    "    def fit(self):\n",
    "        #This function should implement a lambda function defining the form\n",
    "        #of the function to curve fit, then return the estimated parameters\n",
    "        #of both the \\kappa_0 and m\n",
    "        return\n",
    "    \n",
    "    def fit_through_zero(self):\n",
    "        #This function should implement a lambda function defining the form\n",
    "        #of the function to curve fit, then return the estimated parameter m\n",
    "        return"
   ]
  }
 ],
 "metadata": {
  "kernelspec": {
   "display_name": "Python [conda env:x86_64]",
   "language": "python",
   "name": "conda-env-x86_64-py"
  },
  "language_info": {
   "codemirror_mode": {
    "name": "ipython",
    "version": 3
   },
   "file_extension": ".py",
   "mimetype": "text/x-python",
   "name": "python",
   "nbconvert_exporter": "python",
   "pygments_lexer": "ipython3",
   "version": "3.10.14"
  }
 },
 "nbformat": 4,
 "nbformat_minor": 4
}
